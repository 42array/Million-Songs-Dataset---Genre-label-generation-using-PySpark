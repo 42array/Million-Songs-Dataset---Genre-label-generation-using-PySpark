{
 "cells": [
  {
   "cell_type": "code",
   "execution_count": 18,
   "metadata": {},
   "outputs": [],
   "source": [
    "import findspark\n",
    "findspark.init()"
   ]
  },
  {
   "cell_type": "code",
   "execution_count": 19,
   "metadata": {},
   "outputs": [],
   "source": [
    "from itertools import chain\n",
    "from pyspark.sql import SparkSession\n",
    "import pyspark.sql.functions as f\n",
    "from pyspark.sql.functions import col, size, create_map, lit, concat, element_at, when, isnan, count\n",
    "from statistics import mean\n",
    "from pyspark.sql.types import *"
   ]
  },
  {
   "cell_type": "code",
   "execution_count": 20,
   "metadata": {},
   "outputs": [],
   "source": [
    "spark = SparkSession.builder.master('local').config('spark.executor.memory', '16g') \\\n",
    "    .config('spark.driver.memory', '16g').appName('Data Preparation and Feature Engineering').getOrCreate()\n",
    "\n",
    "spark.sparkContext.setLogLevel('ERROR')\n",
    "sc = spark.sparkContext"
   ]
  },
  {
   "cell_type": "code",
   "execution_count": 21,
   "metadata": {},
   "outputs": [],
   "source": [
    "schema = StructType([\n",
    "    StructField(\"artist_familiarity\", DoubleType(), True),\n",
    "    StructField(\"artist_hotttnesss\", DoubleType(), True),\n",
    "    StructField(\"artist_id\", StringType(), True),\n",
    "    StructField(\"artist_latitude\", DoubleType(), True),\n",
    "    StructField(\"artist_location\", StringType(), True),\n",
    "    StructField(\"artist_longitude\", DoubleType(), True),\n",
    "    StructField(\"artist_name\", StringType(), True),\n",
    "    StructField(\"release\", StringType(), True),\n",
    "    StructField(\"song_hotttnesss\", DoubleType(), True),\n",
    "    StructField(\"title\", StringType(), True),\n",
    "    StructField(\"danceability\", DoubleType(), True),\n",
    "    StructField(\"duration\", DoubleType(), True),\n",
    "    StructField(\"end_of_fade_in\", DoubleType(), True),\n",
    "    StructField(\"energy\", DoubleType(), True),\n",
    "    StructField(\"key\", LongType(), True),\n",
    "    StructField(\"loudness\", DoubleType(), True),\n",
    "    StructField(\"mode\", LongType(), True),\n",
    "    StructField(\"start_of_fade_out\", DoubleType(), True),\n",
    "    StructField(\"tempo\", DoubleType(), True),\n",
    "    StructField(\"time_signature\", LongType(), True),\n",
    "    StructField(\"track_id\", StringType(), True),\n",
    "    StructField(\"year\", LongType(), True),\n",
    "    StructField(\"artist_terms\", ArrayType(StringType()), True),\n",
    "    StructField(\"bars_start\", ArrayType(DoubleType()), True),\n",
    "    StructField(\"beats_start\", ArrayType(DoubleType()), True),\n",
    "    StructField(\"sections_start\", ArrayType(DoubleType()), True),\n",
    "    StructField(\"segments_start\", ArrayType(DoubleType()), True),\n",
    "    StructField(\"tatums_start\", ArrayType(DoubleType()), True)])"
   ]
  },
  {
   "cell_type": "code",
   "execution_count": 22,
   "metadata": {
    "scrolled": true
   },
   "outputs": [
    {
     "name": "stdout",
     "output_type": "stream",
     "text": [
      "Reading in Data...\n",
      "+------------------+-------------------+------------------+---------------+---------------+----------------+----------------+--------------------+------------------+----------------+------------+---------+--------------+------+---+--------+----+-----------------+-------+--------------+------------------+----+--------------------+--------------------+--------------------+--------------------+--------------------+--------------------+\n",
      "|artist_familiarity|  artist_hotttnesss|         artist_id|artist_latitude|artist_location|artist_longitude|     artist_name|             release|   song_hotttnesss|           title|danceability| duration|end_of_fade_in|energy|key|loudness|mode|start_of_fade_out|  tempo|time_signature|          track_id|year|        artist_terms|          bars_start|         beats_start|      sections_start|      segments_start|        tatums_start|\n",
      "+------------------+-------------------+------------------+---------------+---------------+----------------+----------------+--------------------+------------------+----------------+------------+---------+--------------+------+---+--------+----+-----------------+-------+--------------+------------------+----+--------------------+--------------------+--------------------+--------------------+--------------------+--------------------+\n",
      "|0.5817937658450281| 0.4019975433642836|ARD7TVE1187B99BFB1|            NaN|California - LA|             NaN|          Casual|         Fear Itself|0.6021199899057548|I Didn't Mean To|         0.0|218.93179|         0.247|   0.0|  1| -11.197|   0|          218.932| 92.198|             4|TRAAAAW128F429D538|   0|[hip hop, undergr...|[0.58521, 2.94247...|[0.58521, 1.19196...|[0.0, 7.74554, 36...|[0.0, 0.24671, 0....|[0.28519, 0.58521...|\n",
      "|0.6306300375898077| 0.4174996449709784|ARMJAGH1187FB546F3|       35.14968|    Memphis, TN|       -90.04892|    The Box Tops|          Dimensions|               NaN|       Soul Deep|         0.0|148.03546|         0.148|   0.0|  6|  -9.843|   0|          137.915|121.274|             4|TRAAABD128F429CF47|1969|[blue-eyed soul, ...|[0.71054, 2.71502...|[0.20627, 0.71054...|[0.0, 8.1777, 19....|[0.0, 0.14803, 0....|[0.20627, 0.45904...|\n",
      "|0.4873567909281477|0.34342837829688244|ARKRRTF1187B9984DA|            NaN|               |             NaN|Sonora Santanera|Las Numero 1 De L...|               NaN| Amor De Cabaret|         0.0|177.47546|         0.282|   0.0|  8|  -9.689|   1|          172.304| 100.07|             1|TRAAADZ128F9348C2E|   0|[salsa, cumbia, t...|[0.73152, 1.39732...|[0.73152, 1.39732...|[0.0, 37.88678, 4...|[0.0, 0.28154, 0....|[0.42132, 0.73152...|\n",
      "|0.6303823341467806| 0.4542311565706205|AR7G5I41187FB4CE6C|            NaN|London, England|             NaN|        Adam Ant|       Friend Or Foe|               NaN| Something Girls|         0.0|233.40363|           0.0|   0.0|  0|  -9.013|   1|          217.124|119.293|             4|TRAAAEF128F4273421|1982|[pop rock, new wa...|[1.30621, 3.29887...|[0.81002, 1.30621...|[0.0, 20.38681, 2...|[0.0, 0.70517, 1....|[0.56254, 0.81002...|\n",
      "|0.6510456608317947|0.40172368550367865|ARXR32B1187FB57099|            NaN|               |             NaN|             Gob|       Muertos Vivos|0.6045007385888197|  Face the Ashes|         0.0|209.60608|         0.066|   0.0|  2|  -4.501|   1|          198.699|129.738|             4|TRAAAFD128F92F423A|2007|[pop punk, ska pu...|[1.06368, 2.91491...|[0.13576, 0.59914...|[0.0, 8.00636, 23...|[0.0, 0.06603, 0....|[0.13576, 0.36918...|\n",
      "+------------------+-------------------+------------------+---------------+---------------+----------------+----------------+--------------------+------------------+----------------+------------+---------+--------------+------+---+--------+----+-----------------+-------+--------------+------------------+----+--------------------+--------------------+--------------------+--------------------+--------------------+--------------------+\n",
      "only showing top 5 rows\n",
      "\n"
     ]
    }
   ],
   "source": [
    "print('Reading in Data...')\n",
    "df = spark.read.load('MSD_me.parquet',schema=schema)\n",
    "df.show(5)"
   ]
  },
  {
   "cell_type": "code",
   "execution_count": 23,
   "metadata": {},
   "outputs": [
    {
     "name": "stdout",
     "output_type": "stream",
     "text": [
      "Checking for missing values...\n",
      "+------------------+-----------------+---------+---------------+---------------+----------------+-----------+-------+---------------+-----+------------+--------+--------------+------+---+--------+----+-----------------+-----+--------------+--------+----+\n",
      "|artist_familiarity|artist_hotttnesss|artist_id|artist_latitude|artist_location|artist_longitude|artist_name|release|song_hotttnesss|title|danceability|duration|end_of_fade_in|energy|key|loudness|mode|start_of_fade_out|tempo|time_signature|track_id|year|\n",
      "+------------------+-----------------+---------+---------------+---------------+----------------+-----------+-------+---------------+-----+------------+--------+--------------+------+---+--------+----+-----------------+-----+--------------+--------+----+\n",
      "|                 4|                0|        0|           6258|           4292|            6258|          0|      3|           4352|    2|           0|       0|             0|     0|  0|       0|   0|                0|    0|             0|       0|   0|\n",
      "+------------------+-----------------+---------+---------------+---------------+----------------+-----------+-------+---------------+-----+------------+--------+--------------+------+---+--------+----+-----------------+-----+--------------+--------+----+\n",
      "\n",
      "Number of missing artist_terms: 5\n",
      "Number of missing bars_start: 30\n",
      "Number of missing beats_start: 25\n",
      "Number of missing sections_start: 36\n",
      "Number of missing segments_start: 0\n",
      "Number of missing tatums_start: 15\n",
      "Number of missing year: 5320\n"
     ]
    }
   ],
   "source": [
    "\n",
    "\n",
    "df_Columns = ['artist_familiarity', 'artist_hotttnesss', 'artist_id', 'artist_latitude', 'artist_location',\n",
    "              'artist_longitude',\n",
    "              'artist_name', 'release', 'song_hotttnesss', 'title', 'danceability', 'duration', 'end_of_fade_in',\n",
    "              'energy',\n",
    "              'key', 'loudness', 'mode', 'start_of_fade_out', 'tempo', 'time_signature', 'track_id', 'year']\n",
    "\n",
    "print('Checking for missing values...')\n",
    "df.select([count(when(col(c).contains('None') | \\\n",
    "                      col(c).contains('NULL') | \\\n",
    "                      (col(c) == '') | \\\n",
    "                      col(c).isNull() | \\\n",
    "                      isnan(c), c\n",
    "                      )).alias(c) for c in df_Columns]).show()\n",
    "\n",
    "print('Number of missing artist_terms:', df.count() - df.filter(f.size('artist_terms') > 0).count())\n",
    "print('Number of missing bars_start:', df.count() - df.filter(f.size('bars_start') > 0).count())\n",
    "print('Number of missing beats_start:', df.count() - df.filter(f.size('beats_start') > 0).count())\n",
    "print('Number of missing sections_start:', df.count() - df.filter(f.size('sections_start') > 0).count())\n",
    "print('Number of missing segments_start:', df.count() - df.filter(f.size('segments_start') > 0).count())\n",
    "print('Number of missing tatums_start:', df.count() - df.filter(f.size('tatums_start') > 0).count())\n",
    "print('Number of missing year:', df.count() - df.filter(df['year'] > 0).count())"
   ]
  },
  {
   "cell_type": "code",
   "execution_count": 24,
   "metadata": {},
   "outputs": [
    {
     "name": "stdout",
     "output_type": "stream",
     "text": [
      "\n",
      "Handling missing values...\n"
     ]
    }
   ],
   "source": [
    "print('\\nHandling missing values...')\n",
    "# dropping columns missing ~ half or more of their data\n",
    "df = df.drop('artist_latitude', 'artist_location', 'artist_longitude', 'song_hotttnesss')\n",
    "\n",
    "# filtering out rows with missing values\n",
    "df = df.filter(f.size('artist_terms') > 0).filter(f.size('bars_start') > 0).filter(f.size('beats_start') > 0) \\\n",
    "    .filter(f.size('sections_start') > 0).filter(f.size('tatums_start') > 0)\n",
    "\n",
    "df = df.dropna()"
   ]
  },
  {
   "cell_type": "code",
   "execution_count": 25,
   "metadata": {},
   "outputs": [
    {
     "name": "stdout",
     "output_type": "stream",
     "text": [
      "\n",
      "Feature engineering...\n"
     ]
    }
   ],
   "source": [
    "print('\\nFeature engineering...')\n",
    "# computing and adding columns for density, fadedness, variability\n",
    "df = df.withColumn('density', size(df.segments_start) / df.duration)\n",
    "df = df.withColumn('fadedness', df.end_of_fade_in + df.duration - df.start_of_fade_out)\n",
    "df = df.withColumn('variability', size(df.sections_start))"
   ]
  },
  {
   "cell_type": "code",
   "execution_count": 26,
   "metadata": {},
   "outputs": [],
   "source": [
    "# computing and adding column for tonality (key + mode)\n",
    "dict_mode = {1: 'maj', 0: 'min'}\n",
    "dict_key = {0: 'DO', 1: 'DO#', 2: 'RE', 3: 'RE#', 4: 'MI', 5: 'FA', 6: 'FA#', 7: 'SOL', 8: 'SOL#', 9: 'LA', 10: 'LA#',\n",
    "            11: 'SI'}\n",
    "\n",
    "mapping_expr_key = create_map([lit(x) for x in chain(*dict_key.items())])\n",
    "mapping_expr_mode = create_map([lit(x) for x in chain(*dict_mode.items())])\n",
    "\n",
    "df = df.withColumn(\"key_string\", (mapping_expr_key.getItem(col(\"key\"))))\n",
    "df = df.withColumn('mode_string', (mapping_expr_mode.getItem(col(\"mode\"))))\n",
    "df = df.withColumn('tonality', concat(df.key_string, lit(' '), df.mode_string))"
   ]
  },
  {
   "cell_type": "code",
   "execution_count": 27,
   "metadata": {},
   "outputs": [],
   "source": [
    "# computing mean bar and beats starts and adding columns\n",
    "compute_average = f.udf(lambda x: mean(x))\n",
    "df = df.withColumn('avg_bars_start', compute_average(df['bars_start']))\n",
    "df = df.withColumn('avg_beats_start', compute_average(df['beats_start']))"
   ]
  },
  {
   "cell_type": "code",
   "execution_count": 28,
   "metadata": {},
   "outputs": [
    {
     "name": "stdout",
     "output_type": "stream",
     "text": [
      "\n",
      "Calculating statistics on numerical columns...\n",
      "+-------+-------------------+-------------------+------------+------------------+------------------+------+-----------------+-------------------+------------------+------------------+------------------+------------------+-----------------+-------------------+--------------------+------------------+------------------+------------------+\n",
      "|summary| artist_familiarity|  artist_hotttnesss|danceability|          duration|    end_of_fade_in|energy|              key|           loudness|              mode| start_of_fade_out|             tempo|    time_signature|             year|            density|           fadedness|       variability|    avg_bars_start|   avg_beats_start|\n",
      "+-------+-------------------+-------------------+------------+------------------+------------------+------+-----------------+-------------------+------------------+------------------+------------------+------------------+-----------------+-------------------+--------------------+------------------+------------------+------------------+\n",
      "|  count|               9933|               9933|        9933|              9933|              9933|  9933|             9933|               9933|              9933|              9933|              9933|              9933|             9933|               9933|                9933|              9933|              9933|              9933|\n",
      "|   mean| 0.5659422796268282| 0.3860744598748659|         0.0|238.92477196818618|0.7607780126849857|   0.0|5.282694050135911|-10.457277660324166|0.6904258532165509|230.38320507399555|123.35151877579789| 3.570623175274338|936.7838518071076|  3.558605188371008|   9.302344906876062|10.020336252894392|116.73912021064396|117.74812662457488|\n",
      "| stddev|0.15964262418390832|0.14316639488321878|         0.0|  112.874704568454|1.8723332326655895|   0.0|3.552298908872968|  5.362160538136766| 0.462341339881173| 110.9626132348871| 34.56416005556527|1.2616635804317191|996.7792701011826| 0.8994704775227218|   6.980251898268661| 4.443155669946949| 56.38408505627938|56.313658286239445|\n",
      "|    min|                0.0|                0.0|         0.0|          16.92689|               0.0|   0.0|                0|            -51.643|                 0|            16.927|            27.163|                 1|                0|0.07649573058203689|-4.90000000013424...|                 2|         10.042696|10.084750294117647|\n",
      "|    25%| 0.4684493453313319| 0.3258312404870052|         0.0|         176.66567|               0.0|   0.0|                2|            -13.136|                 0|           169.401|            97.103|                 3|                0|  2.933574710826883|   4.907999999999987|                 7|      85.586841375| 86.61451313953488|\n",
      "|    50%| 0.5639220884860754|  0.381044109296661|         0.0|         223.29424|               0.2|   0.0|                5|             -9.366|                 1|           214.158|            120.25|                 4|                0|  3.502664183326749|    8.18164999999999|                10|108.80140823076923|109.85968495750708|\n",
      "|    75%| 0.6680202487233046| 0.4542311565706205|         0.0|         276.40118|             0.421|   0.0|                8|             -6.531|                 1|           266.304|           144.052|                 4|             2000|  4.165543054818703|  12.327279999999973|                12|135.46829098360655|136.48094422261485|\n",
      "|    max|                1.0| 1.0825025567261237|         0.0|        1819.76771|            43.119|   0.0|               11|              0.566|                 1|          1813.426|           262.828|                 7|             2010|  7.576037379759735|  108.83470999999986|                78|       99.99424748|       99.99424748|\n",
      "+-------+-------------------+-------------------+------------+------------------+------------------+------+-----------------+-------------------+------------------+------------------+------------------+------------------+-----------------+-------------------+--------------------+------------------+------------------+------------------+\n",
      "\n",
      "\n",
      "Dropping empty or unnecessary columns...\n",
      "+-------------------+-------------------+------------------+--------------------+--------------------+--------------------+---------+--------------+---+--------+----+-----------------+-------+--------------+------------------+----+--------------------+------------------+------------------+-----------+----------+-----------+--------+------------------+------------------+\n",
      "| artist_familiarity|  artist_hotttnesss|         artist_id|         artist_name|             release|               title| duration|end_of_fade_in|key|loudness|mode|start_of_fade_out|  tempo|time_signature|          track_id|year|        artist_terms|           density|         fadedness|variability|key_string|mode_string|tonality|    avg_bars_start|   avg_beats_start|\n",
      "+-------------------+-------------------+------------------+--------------------+--------------------+--------------------+---------+--------------+---+--------+----+-----------------+-------+--------------+------------------+----+--------------------+------------------+------------------+-----------+----------+-----------+--------+------------------+------------------+\n",
      "| 0.5817937658450281| 0.4019975433642836|ARD7TVE1187B99BFB1|              Casual|         Fear Itself|    I Didn't Mean To|218.93179|         0.247|  1| -11.197|   0|          218.932| 92.198|             4|TRAAAAW128F429D538|   0|[hip hop, undergr...| 4.435171338068354|0.2467900000000327|         10|       DO#|        min| DO# min|108.16395614457831|108.98338398255814|\n",
      "| 0.6306300375898077| 0.4174996449709784|ARMJAGH1187FB546F3|        The Box Tops|          Dimensions|           Soul Deep|148.03546|         0.148|  6|  -9.843|   0|          137.915|121.274|             4|TRAAABD128F429CF47|1969|[blue-eyed soul, ...|3.7153260441788745|10.268460000000005|          9|       FA#|        min| FA# min|  71.9682789041096| 73.20077537162162|\n",
      "| 0.4873567909281477|0.34342837829688244|ARKRRTF1187B9984DA|    Sonora Santanera|Las Numero 1 De L...|     Amor De Cabaret|177.47546|         0.282|  8|  -9.689|   1|          172.304| 100.07|             1|TRAAADZ128F9348C2E|   0|[salsa, cumbia, t...|3.1666349815349117| 5.453460000000007|          8|      SOL#|        maj|SOL# maj| 86.79624993127148| 86.79624993127148|\n",
      "| 0.6303823341467806| 0.4542311565706205|AR7G5I41187FB4CE6C|            Adam Ant|       Friend Or Foe|     Something Girls|233.40363|           0.0|  0|  -9.013|   1|          217.124|119.293|             4|TRAAAEF128F4273421|1982|[pop rock, new wa...| 3.517511702795711|16.279629999999997|         11|        DO|        maj|  DO maj|115.98853208695652|116.74300803030303|\n",
      "| 0.6510456608317947|0.40172368550367865|ARXR32B1187FB57099|                 Gob|       Muertos Vivos|      Face the Ashes|209.60608|         0.066|  2|  -4.501|   1|          198.699|129.738|             4|TRAAAFD128F92F423A|2007|[pop punk, ska pu...|3.2107847253285784|10.973079999999982|          9|        RE|        maj|  RE maj|101.83981909090909|102.53072054054054|\n",
      "| 0.5352927355118197|  0.385470550555821|ARKFYS91187B98E58F|Jeff And Sheri Ea...|        Ordinary Day|The Moon And I (O...| 267.7024|         2.264|  5|  -9.323|   1|           254.27|147.782|             3|TRAAAMO128F1481E7F|   0|[southern gospel,...| 3.119135278578003|15.696400000000011|         13|        FA|        maj|  FA maj|128.86190004761906|129.47781862559242|\n",
      "| 0.5564956019129572| 0.2619411773808474|ARD0S291187B9B7BF5|             Rated R|   Da Ghetto Psychic|Keepin It Real (S...|114.78159|         0.096|  1| -17.302|   1|          114.782|111.787|             1|TRAAAMQ128F1460CD3|   0|[breakbeat, dirty...| 4.190567494316816|0.0955900000000014|          4|       DO#|        maj| DO# maj|56.886023686635944|56.886023686635944|\n",
      "| 0.8011364469966873| 0.6055071356905752|AR10USD1187B99F3F1|Tweeterfriendly M...|        Gin & Phonic|        Drop of Rain|189.57016|         0.319|  4| -11.642|   0|          181.023| 101.43|             3|TRAAAPK128E0786D96|   0|[post-hardcore, s...| 3.101753989129935|  8.86615999999998|          9|        MI|        min|  MI min| 90.86116106796116| 92.14981741214058|\n",
      "|0.42666785706940524|0.33227574659906806|AR8ZCNI1187B9A069B|    Planet P Project|          Pink World|          Pink World|269.81832|           5.3|  4| -13.496|   1|           258.99| 86.643|             4|TRAAARJ128F9320760|1984|[new wave, progre...| 3.380052177331769| 16.12832000000003|         12|        MI|        maj|  MI maj| 130.2967211827957| 133.3998435433071|\n",
      "| 0.5505136978482137|0.42270564102939107|ARNTLGG11E2835DDB9|                 Clp|   Superinstrumental|Insatiable (Instr...|266.39628|         0.084|  7|  -6.697|   0|          261.747|114.041|             4|TRAAAVG12903CFA543|   0|[breakcore, miami...| 5.277851477505617| 4.733279999999979|         11|       SOL|        min| SOL min|130.10139443548388|      131.41757768|\n",
      "| 0.3600311664643514|0.29626895431146333|ARGSJW91187B9B1D6B|        JennyAnyKind|          I Need You|     Young Boy Blues|218.77506|         2.125|  5| -10.021|   0|          207.012|146.765|             1|TRAAAVO128F93133D4|   0|[alternative rock...| 3.195062545063409|13.888059999999996|         10|        FA|        min|  FA min|       106.2684435|       106.2684435|\n",
      "| 0.5451592956008632|0.35155586118563925|ARC43071187B990240|        Wayne Watson|        The Way Home|The Urgency (LP V...|245.21098|         0.357|  7|  -7.545|   1|           227.48|117.975|             4|TRAABCL128F4286650|   0|[ccm, religious m...|  3.23394980110597|18.087980000000016|          5|       SOL|        maj| SOL maj|119.48561068376068|120.50262167019028|\n",
      "| 0.5775089743252977| 0.3794821702804675|ARL7K851187B99ACD2|           Andy Andy|    Placer & Castigo|            La Culpa|226.35057|           0.0|  9|  -6.632|   1|          221.553| 130.04|             4|TRAABDL12903CAABBA|   0|[bachata, merengu...| 4.289805852929816| 4.797570000000007|         12|        LA|        maj|  LA maj|       111.0586815|111.98163474226804|\n",
      "|0.08551204710857879|0.25193652476242323|ARHHO3O1187B989413|           Bob Azzam|         Arrivederci|      Auguri Cha Cha|191.84281|          0.38| 10|   -7.75|   0|          188.424|137.334|             1|TRAABJL12903CDCF1A|   0|[chanson, latin j...| 3.753072632745528|3.7988099999999747|          7|       LA#|        min| LA# min| 95.30112076036866| 95.30112076036866|\n",
      "| 0.7766758556845541| 0.5530719914619753|ARIK43K1187B9AE54C|       Lionel Richie|Dancing On The Ce...|Tonight Will Be A...| 307.3824|         0.612|  3|  -8.346|   1|          296.658|125.197|             3|TRAABJV128F1460C49|1986|[quiet storm, sof...|3.4582331324109643|11.336400000000026|         13|       RE#|        maj| RE# maj|152.58433264150943|153.30250675039247|\n",
      "| 0.6364236449500698| 0.4479354804795022|ARD842G1187B997376|          Blue Rodeo|           Outskirts|            Floating|491.12771|           0.0|  7|  -8.576|   1|          486.034|119.826|             4|TRAABLR128F423B7E3|1987|[country rock, he...| 3.314820090277537| 5.093709999999987|         17|       SOL|        maj| SOL maj|246.67117772357724|247.83206583838384|\n",
      "| 0.4199431484349393|0.33080635685585685|ARIG6O41187B988BDD|     Richard Souther|      Cross Currents|           High Tide| 228.5971|         0.223|  8|  -16.11|   1|          217.426|127.756|             5|TRAABNV128F425CEE1|   0|[chill-out, smoot...| 4.138285218841359|11.394100000000037|         12|      SOL#|        maj|SOL# maj|111.57751010526316|112.28214439330544|\n",
      "| 0.3632805711099885|0.30667609347902947|AR1ZHYZ1187FB3C717|       Faiz Ali Faiz|   Panjtan Ka Ghulam|Sohna Nee Sohna Data|599.24853|         1.193|  6|  -8.032|   1|          591.999| 99.273|             4|TRAABRB128F9306DD5|   0|[qawwali, meditat...| 5.585328678236391|  8.44252999999992|         33|       FA#|        maj| FA# maj| 300.4214666122449| 301.3242751832994|\n",
      "| 0.7071997638379363| 0.5134632897021558|ARYKCQI1187FB3B18F|               Tesla|                Gold|   Caught In A Dream|290.29832|         0.145|  7|  -5.271|   1|          285.605|150.062|             4|TRAABVM128F92CA9DC|2004|[hard rock, heavy...|2.8660172749191246| 4.838319999999953|         14|       SOL|        maj| SOL maj|141.68664598870058|142.68884829131653|\n",
      "|0.32031437017067216|                0.0|ARNPAGP1241B9C7FD4|           lextrical|Whatever Happened...|     Synthetic Dream|165.69424|         0.162|  7|  -6.787|   1|          157.391|138.331|             4|TRAABXG128F9318EBD|   0|[indietronica, lo...| 3.621127686756039| 8.465240000000023|          8|       SOL|        maj| SOL maj| 79.67109684782609| 80.32537243243243|\n",
      "+-------------------+-------------------+------------------+--------------------+--------------------+--------------------+---------+--------------+---+--------+----+-----------------+-------+--------------+------------------+----+--------------------+------------------+------------------+-----------+----------+-----------+--------+------------------+------------------+\n",
      "only showing top 20 rows\n",
      "\n"
     ]
    }
   ],
   "source": [
    "print('\\nCalculating statistics on numerical columns...')\n",
    "df.select('artist_familiarity', 'artist_hotttnesss', 'danceability', 'duration', 'end_of_fade_in', 'energy', 'key', 'loudness',\n",
    "          'mode', 'start_of_fade_out', 'tempo', 'time_signature', 'year', 'density', 'fadedness', 'variability', 'avg_bars_start', 'avg_beats_start').summary().show()\n",
    "\n",
    "# drop columns no longer need, including danceability and energy which have mostly 0 values\n",
    "print('\\nDropping empty or unnecessary columns...')\n",
    "df = df.drop('segments_start', 'tatums_start', 'sections_start', 'bars_start', 'beats_start', 'danceability', 'energy')\n",
    "\n",
    "df.show()\n",
    "\n",
    "df.write.save('MSD_w_Year_me.parquet')\n",
    "\n",
    "final_df = df.drop('year')\n",
    "final_df.write.save('MSD_FINAL_me.parquet')"
   ]
  },
  {
   "cell_type": "code",
   "execution_count": null,
   "metadata": {},
   "outputs": [],
   "source": []
  }
 ],
 "metadata": {
  "kernelspec": {
   "display_name": "Python 3",
   "language": "python",
   "name": "python3"
  },
  "language_info": {
   "codemirror_mode": {
    "name": "ipython",
    "version": 3
   },
   "file_extension": ".py",
   "mimetype": "text/x-python",
   "name": "python",
   "nbconvert_exporter": "python",
   "pygments_lexer": "ipython3",
   "version": "3.8.5"
  }
 },
 "nbformat": 4,
 "nbformat_minor": 4
}
